{
 "cells": [
  {
   "cell_type": "markdown",
   "id": "a8f07016",
   "metadata": {},
   "source": [
    "# 1. Make necessary imports:\n",
    "The dataset we\"ll use for this python project we'll it news.csv this dataset has a shape of 7796*4, the first column identifies the news,the second and third are the title and text, and the fourth column has labels denoting whether the news is real or fake"
   ]
  },
  {
   "cell_type": "code",
   "execution_count": null,
   "id": "22cef2f9",
   "metadata": {},
   "outputs": [],
   "source": [
    "import numpy as np\n",
    "import pandas as pd\n",
    "import itertools \n",
    "from sklearn.model_selection import train_test_split\n",
    "from sklearn.feature_extraction.text import TfildfVectorizer\n",
    "from sklearn.linear_model import PassiveAgressiveClassifer\n",
    "from sklearn.metrics import accuracy"
   ]
  }
 ],
 "metadata": {
  "kernelspec": {
   "display_name": "Python 3",
   "language": "python",
   "name": "python3"
  },
  "language_info": {
   "codemirror_mode": {
    "name": "ipython",
    "version": 3
   },
   "file_extension": ".py",
   "mimetype": "text/x-python",
   "name": "python",
   "nbconvert_exporter": "python",
   "pygments_lexer": "ipython3",
   "version": "3.8.8"
  }
 },
 "nbformat": 4,
 "nbformat_minor": 5
}
